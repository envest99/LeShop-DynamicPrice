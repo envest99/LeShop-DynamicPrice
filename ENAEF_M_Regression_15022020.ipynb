{
  "nbformat": 4,
  "nbformat_minor": 0,
  "metadata": {
    "colab": {
      "name": "ENAEF_M-Regression_15022020.ipynb",
      "provenance": [],
      "collapsed_sections": [],
      "include_colab_link": true
    },
    "kernelspec": {
      "name": "python3",
      "display_name": "Python 3"
    }
  },
  "cells": [
    {
      "cell_type": "markdown",
      "metadata": {
        "id": "view-in-github",
        "colab_type": "text"
      },
      "source": [
        "<a href=\"https://colab.research.google.com/github/envest99/LeShop-DynamicPrice/blob/master/ENAEF_M_Regression_15022020.ipynb\" target=\"_parent\"><img src=\"https://colab.research.google.com/assets/colab-badge.svg\" alt=\"Open In Colab\"/></a>"
      ]
    },
    {
      "cell_type": "code",
      "metadata": {
        "id": "47jDukhMQJU5",
        "colab_type": "code",
        "colab": {}
      },
      "source": [
        "import os\n",
        "import numpy as np\n",
        "import math\n",
        "import collections\n",
        "import pandas as pd"
      ],
      "execution_count": 0,
      "outputs": []
    },
    {
      "cell_type": "code",
      "metadata": {
        "id": "vPYj2dtELtjD",
        "colab_type": "code",
        "colab": {}
      },
      "source": [
        "datos = pd.read_csv(\"TS_01022020.csv\")\n",
        "df = pd.DataFrame(datos)\n",
        "print(df)"
      ],
      "execution_count": 0,
      "outputs": []
    },
    {
      "cell_type": "code",
      "metadata": {
        "id": "uJ-m2m-R8kXA",
        "colab_type": "code",
        "colab": {}
      },
      "source": [
        "df['Sex_male']=df.Gender.map({'Female':0,'Male':1})\n",
        "        df['Job_index']=df.Job.map({'Professor':1,'Administrative':2,'Assistant':3})\n",
        "print(df)"
      ],
      "execution_count": 0,
      "outputs": []
    },
    {
      "cell_type": "code",
      "metadata": {
        "id": "GaksKLBa8u0G",
        "colab_type": "code",
        "colab": {}
      },
      "source": [
        "y = datos['Wage']\n",
        "X = datos[['Sex_mal', 'Job_index','Age']]\n",
        "X = sm.add_constant(X)\n",
        "model1 = sm.OLS(y, X).fit()\n",
        "results1=model1.summary(alpha=0.05)\n",
        "print(results1)"
      ],
      "execution_count": 0,
      "outputs": []
    }
  ]
}