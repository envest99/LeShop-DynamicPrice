{
  "nbformat": 4,
  "nbformat_minor": 0,
  "metadata": {
    "colab": {
      "name": "ENAEF_OptiPrice_02022020.ipynb",
      "provenance": [],
      "authorship_tag": "ABX9TyO3QORsajVhgxMUWDeq8jFy",
      "include_colab_link": true
    },
    "kernelspec": {
      "name": "python3",
      "display_name": "Python 3"
    }
  },
  "cells": [
    {
      "cell_type": "markdown",
      "metadata": {
        "id": "view-in-github",
        "colab_type": "text"
      },
      "source": [
        "<a href=\"https://colab.research.google.com/github/envest99/LeShop-DynamicPrice/blob/master/ENAEF_OptiPrice_02022020.ipynb\" target=\"_parent\"><img src=\"https://colab.research.google.com/assets/colab-badge.svg\" alt=\"Open In Colab\"/></a>"
      ]
    },
    {
      "cell_type": "code",
      "metadata": {
        "id": "FLXb2Vh5DRfV",
        "colab_type": "code",
        "colab": {}
      },
      "source": [
        "import os\n",
        "import numpy as np\n",
        "import math\n",
        "import collections\n",
        "import pandas as pd"
      ],
      "execution_count": 0,
      "outputs": []
    },
    {
      "cell_type": "code",
      "metadata": {
        "id": "PDu6NB3oDTT_",
        "colab_type": "code",
        "colab": {}
      },
      "source": [
        "\n",
        "def linear(a, b, x):\n",
        "    return b + a*x\n",
        "\n",
        "# a linear demand function is generated for every \n",
        "# pair of coefficients in vectors a_vec and b_vec \n",
        "def demand_hypotheses(a_vec, b_vec):\n",
        "    for a, b in itertools.product(a_vec, b_vec):\n",
        "        yield {\n",
        "            'd': functools.partial(linear, a, b),\n",
        "            'p_opt': -b/(2*a)\n",
        "        }"
      ],
      "execution_count": 0,
      "outputs": []
    }
  ]
}