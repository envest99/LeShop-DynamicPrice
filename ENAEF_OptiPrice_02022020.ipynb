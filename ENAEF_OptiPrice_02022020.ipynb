{
  "nbformat": 4,
  "nbformat_minor": 0,
  "metadata": {
    "colab": {
      "name": "ENAEF_OptiPrice_02022020.ipynb",
      "provenance": [],
      "collapsed_sections": [],
      "authorship_tag": "ABX9TyN1H39EnHz5kQ5cZmAq6Zak",
      "include_colab_link": true
    },
    "kernelspec": {
      "name": "python3",
      "display_name": "Python 3"
    }
  },
  "cells": [
    {
      "cell_type": "markdown",
      "metadata": {
        "id": "view-in-github",
        "colab_type": "text"
      },
      "source": [
        "<a href=\"https://colab.research.google.com/github/envest99/LeShop-DynamicPrice/blob/master/ENAEF_OptiPrice_02022020.ipynb\" target=\"_parent\"><img src=\"https://colab.research.google.com/assets/colab-badge.svg\" alt=\"Open In Colab\"/></a>"
      ]
    },
    {
      "cell_type": "code",
      "metadata": {
        "id": "FLXb2Vh5DRfV",
        "colab_type": "code",
        "colab": {}
      },
      "source": [
        "import os\n",
        "import numpy as np\n",
        "import math\n",
        "import collections\n",
        "import pandas as pd"
      ],
      "execution_count": 0,
      "outputs": []
    },
    {
      "cell_type": "code",
      "metadata": {
        "id": "PDu6NB3oDTT_",
        "colab_type": "code",
        "colab": {}
      },
      "source": [
        "#linear demand model to generate revenue-optimal price for demand model, such as the constant-elasticity model, can also be used. https://blog.griddynamics.com/dynamic-pricing-algorithms/\n",
        "\n",
        "def linear(a, b, x):\n",
        "    return b + a*x\n",
        "\n",
        "# a linear demand function is generated for every \n",
        "# pair of coefficients in vectors a_vec and b_vec \n",
        "def demand_hypotheses(a_vec, b_vec):\n",
        "    for a, b in itertools.product(a_vec, b_vec):\n",
        "        yield {\n",
        "            'd': functools.partial(linear, a, b),\n",
        "            'p_opt': -b/(2*a)\n",
        "        }"
      ],
      "execution_count": 0,
      "outputs": []
    }
  ]
}