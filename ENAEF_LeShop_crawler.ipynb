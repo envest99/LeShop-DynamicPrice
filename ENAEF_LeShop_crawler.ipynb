{
  "nbformat": 4,
  "nbformat_minor": 0,
  "metadata": {
    "colab": {
      "name": "ENAEF_LeShop-crawler.ipynb",
      "provenance": [],
      "authorship_tag": "ABX9TyPDJAjkiFSsrwPpm0RVdq6W",
      "include_colab_link": true
    },
    "kernelspec": {
      "name": "python3",
      "display_name": "Python 3"
    }
  },
  "cells": [
    {
      "cell_type": "markdown",
      "metadata": {
        "id": "view-in-github",
        "colab_type": "text"
      },
      "source": [
        "<a href=\"https://colab.research.google.com/github/envest99/LeShop-DynamicPrice/blob/master/ENAEF_LeShop_crawler.ipynb\" target=\"_parent\"><img src=\"https://colab.research.google.com/assets/colab-badge.svg\" alt=\"Open In Colab\"/></a>"
      ]
    },
    {
      "cell_type": "code",
      "metadata": {
        "id": "orgpml2vjHqP",
        "colab_type": "code",
        "colab": {}
      },
      "source": [
        "import os\n",
        "import numpy as np\n",
        "import math\n",
        "import collections\n",
        "import pandas as pd"
      ],
      "execution_count": 0,
      "outputs": []
    },
    {
      "cell_type": "code",
      "metadata": {
        "id": "MJAk6gWFjhxx",
        "colab_type": "code",
        "colab": {}
      },
      "source": [
        "pip install scrapy"
      ],
      "execution_count": 0,
      "outputs": []
    },
    {
      "cell_type": "code",
      "metadata": {
        "id": "mW-FvEfhjI3q",
        "colab_type": "code",
        "colab": {}
      },
      "source": [
        "cat > myspider.py <<EOF\n",
        "import scrapy\n",
        "\n",
        "class BlogSpider(scrapy.Spider):\n",
        "    name = 'blogspider'\n",
        "    start_urls = ['https://blog.scrapinghub.com']\n",
        "\n",
        "    def parse(self, response):\n",
        "        for title in response.css('.post-header>h2'):\n",
        "            yield {'title': title.css('a ::text').get()}\n",
        "\n",
        "        for next_page in response.css('a.next-posts-link'):\n",
        "            yield response.follow(next_page, self.parse)\n",
        "EOF\n",
        "scrapy runspider myspider.py"
      ],
      "execution_count": 0,
      "outputs": []
    }
  ]
}